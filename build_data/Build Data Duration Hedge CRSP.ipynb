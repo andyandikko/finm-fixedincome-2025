{
 "cells": [
  {
   "cell_type": "markdown",
   "metadata": {},
   "source": [
    "# Build Data Duration Hedge CRSP"
   ]
  },
  {
   "cell_type": "markdown",
   "metadata": {},
   "source": [
    "### CRSP Treasury Manual\n",
    "\n",
    "https://www.crsp.org/wp-content/uploads/guides/CRSP_US_Treasury_Database_Guide_for_SAS_ASCII_EXCEL_R.pdf\n",
    "\n",
    "https://www.crsp.org/products/documentation/treasno-properties"
   ]
  },
  {
   "cell_type": "markdown",
   "metadata": {},
   "source": [
    "# WRDS API"
   ]
  },
  {
   "cell_type": "code",
   "execution_count": 1,
   "metadata": {},
   "outputs": [
    {
     "name": "stdout",
     "output_type": "stream",
     "text": [
      "Loading library list...\n",
      "Done\n"
     ]
    }
   ],
   "source": [
    "import wrds\n",
    "file_key = open(\"../../keys/wrds_username.txt\",\"r\")\n",
    "USERNAME = file_key.read()\n",
    "file_key.close()\n",
    "\n",
    "db = wrds.Connection(wrds_username=USERNAME)\n",
    "#db.create_pgpass_file()"
   ]
  },
  {
   "cell_type": "code",
   "execution_count": 2,
   "metadata": {},
   "outputs": [],
   "source": [
    "import pandas as pd\n",
    "import numpy as np\n",
    "from datetime import date"
   ]
  },
  {
   "cell_type": "code",
   "execution_count": 3,
   "metadata": {},
   "outputs": [],
   "source": [
    "DATE = '2024-05-31'"
   ]
  },
  {
   "cell_type": "markdown",
   "metadata": {},
   "source": [
    "# Data API"
   ]
  },
  {
   "cell_type": "code",
   "execution_count": 6,
   "metadata": {},
   "outputs": [
    {
     "ename": "NameError",
     "evalue": "name 'data' is not defined",
     "output_type": "error",
     "traceback": [
      "\u001b[0;31m---------------------------------------------------------------------------\u001b[0m",
      "\u001b[0;31mNameError\u001b[0m                                 Traceback (most recent call last)",
      "Cell \u001b[0;32mIn[6], line 1\u001b[0m\n\u001b[0;32m----> 1\u001b[0m df \u001b[38;5;241m=\u001b[39m \u001b[43mdata\u001b[49m\u001b[38;5;241m.\u001b[39mcopy()\n\u001b[1;32m      2\u001b[0m df \u001b[38;5;241m=\u001b[39m df[\u001b[38;5;241m~\u001b[39mdf[\u001b[38;5;124m'\u001b[39m\u001b[38;5;124mitype\u001b[39m\u001b[38;5;124m'\u001b[39m]\u001b[38;5;241m.\u001b[39misin([\u001b[38;5;241m11\u001b[39m,\u001b[38;5;241m12\u001b[39m])]\n\u001b[1;32m      3\u001b[0m df\u001b[38;5;241m.\u001b[39mdropna(subset\u001b[38;5;241m=\u001b[39m[\u001b[38;5;124m'\u001b[39m\u001b[38;5;124mtdduratn\u001b[39m\u001b[38;5;124m'\u001b[39m],inplace\u001b[38;5;241m=\u001b[39m\u001b[38;5;28;01mTrue\u001b[39;00m)\n",
      "\u001b[0;31mNameError\u001b[0m: name 'data' is not defined"
     ]
    }
   ],
   "source": [
    "df = data.copy()\n",
    "df = df[~df['itype'].isin([11,12])]\n",
    "df.dropna(subset=['tdduratn'],inplace=True)"
   ]
  },
  {
   "cell_type": "code",
   "execution_count": 7,
   "metadata": {},
   "outputs": [],
   "source": [
    "PERIODS_GRID = 21\n",
    "FREQ = '6M'"
   ]
  },
  {
   "cell_type": "code",
   "execution_count": 8,
   "metadata": {},
   "outputs": [
    {
     "ename": "NameError",
     "evalue": "name 'df' is not defined",
     "output_type": "error",
     "traceback": [
      "\u001b[0;31m---------------------------------------------------------------------------\u001b[0m",
      "\u001b[0;31mNameError\u001b[0m                                 Traceback (most recent call last)",
      "Cell \u001b[0;32mIn[8], line 8\u001b[0m\n\u001b[1;32m      3\u001b[0m \u001b[38;5;66;03m# Assuming DATE and data are given\u001b[39;00m\n\u001b[1;32m      4\u001b[0m \u001b[38;5;66;03m# example dataframe 'data' with 'tmatdt' and 'tdatdt' columns\u001b[39;00m\n\u001b[1;32m      5\u001b[0m \n\u001b[1;32m      6\u001b[0m \u001b[38;5;66;03m# Convert DATE and columns in 'data' to datetime\u001b[39;00m\n\u001b[1;32m      7\u001b[0m dateobj \u001b[38;5;241m=\u001b[39m pd\u001b[38;5;241m.\u001b[39mto_datetime(DATE)\n\u001b[0;32m----> 8\u001b[0m df[\u001b[38;5;124m'\u001b[39m\u001b[38;5;124mtmatdt\u001b[39m\u001b[38;5;124m'\u001b[39m] \u001b[38;5;241m=\u001b[39m pd\u001b[38;5;241m.\u001b[39mto_datetime(\u001b[43mdf\u001b[49m[\u001b[38;5;124m'\u001b[39m\u001b[38;5;124mtmatdt\u001b[39m\u001b[38;5;124m'\u001b[39m])\n\u001b[1;32m      9\u001b[0m df[\u001b[38;5;124m'\u001b[39m\u001b[38;5;124mtdatdt\u001b[39m\u001b[38;5;124m'\u001b[39m] \u001b[38;5;241m=\u001b[39m pd\u001b[38;5;241m.\u001b[39mto_datetime(df[\u001b[38;5;124m'\u001b[39m\u001b[38;5;124mtdatdt\u001b[39m\u001b[38;5;124m'\u001b[39m])\n\u001b[1;32m     11\u001b[0m \u001b[38;5;66;03m# Generate 6-month intervals from DATE\u001b[39;00m\n",
      "\u001b[0;31mNameError\u001b[0m: name 'df' is not defined"
     ]
    }
   ],
   "source": [
    "from pandas.tseries.offsets import DateOffset\n",
    "\n",
    "# Assuming DATE and data are given\n",
    "# example dataframe 'data' with 'tmatdt' and 'tdatdt' columns\n",
    "\n",
    "# Convert DATE and columns in 'data' to datetime\n",
    "dateobj = pd.to_datetime(DATE)\n",
    "df['tmatdt'] = pd.to_datetime(df['tmatdt'])\n",
    "df['tdatdt'] = pd.to_datetime(df['tdatdt'])\n",
    "\n",
    "# Generate 6-month intervals from DATE\n",
    "six_month_intervals = pd.date_range(start=dateobj, periods=PERIODS_GRID, freq=FREQ) # adjust periods as needed\n",
    "\n",
    "# Function to find closest date in 'tmatdt' for each interval\n",
    "def find_closest_date(interval, data):\n",
    "    # Calculate the absolute difference between each MATURITY date and the interval\n",
    "    data['difference'] = abs(data['tmatdt'] - interval)\n",
    "    # Ensure we only consider future dates relative to DATE\n",
    "    future_dates = data[data['tmatdt'] > dateobj]\n",
    "    if not future_dates.empty:\n",
    "        # Find the row with the minimum difference\n",
    "        min_diff = future_dates['difference'].min()\n",
    "        closest_dates = future_dates[future_dates['difference'] == min_diff]\n",
    "        # Resolve ties by 'tdatdt' date\n",
    "        return closest_dates.sort_values('tdatdt', ascending=False).iloc[0]\n",
    "    return None\n",
    "\n",
    "# Apply the function to each interval\n",
    "selected_rows = [find_closest_date(interval, df) for interval in six_month_intervals]\n",
    "\n",
    "# Remove None values and ensure uniqueness\n",
    "selected_rows = [row for row in selected_rows if row is not None]\n",
    "data_select = pd.DataFrame(selected_rows).drop_duplicates(subset='tmatdt')\n",
    "\n",
    "# Add new column for years difference\n",
    "data_select['TTM'] = data_select['tmatdt'].apply(\n",
    "    lambda x: (x - dateobj).days / 365.25)\n",
    "\n",
    "data_select = data_select[['kytreasno','caldt','tdatdt','tmatdt','TTM','tdbid','tdask','tdaccint','tdyld','tdduratn','tdtotout','tcouprt','itype']]\n",
    "\n",
    "data_select['kytreasno'] = data_select['kytreasno'].map('{:.0f}'.format)\n",
    "data_select = data_select.set_index('kytreasno')"
   ]
  },
  {
   "cell_type": "code",
   "execution_count": 9,
   "metadata": {},
   "outputs": [
    {
     "ename": "NameError",
     "evalue": "name 'data_select' is not defined",
     "output_type": "error",
     "traceback": [
      "\u001b[0;31m---------------------------------------------------------------------------\u001b[0m",
      "\u001b[0;31mNameError\u001b[0m                                 Traceback (most recent call last)",
      "Cell \u001b[0;32mIn[9], line 1\u001b[0m\n\u001b[0;32m----> 1\u001b[0m selected \u001b[38;5;241m=\u001b[39m \u001b[43mdata_select\u001b[49m\u001b[38;5;241m.\u001b[39mrename(columns\u001b[38;5;241m=\u001b[39m{\u001b[38;5;124m'\u001b[39m\u001b[38;5;124mcaldt\u001b[39m\u001b[38;5;124m'\u001b[39m:\u001b[38;5;124m'\u001b[39m\u001b[38;5;124mdate\u001b[39m\u001b[38;5;124m'\u001b[39m,\u001b[38;5;124m'\u001b[39m\u001b[38;5;124mtdatdt\u001b[39m\u001b[38;5;124m'\u001b[39m:\u001b[38;5;124m'\u001b[39m\u001b[38;5;124missue date\u001b[39m\u001b[38;5;124m'\u001b[39m,\u001b[38;5;124m'\u001b[39m\u001b[38;5;124mtdtotout\u001b[39m\u001b[38;5;124m'\u001b[39m:\u001b[38;5;124m'\u001b[39m\u001b[38;5;124moutstanding\u001b[39m\u001b[38;5;124m'\u001b[39m,\u001b[38;5;124m'\u001b[39m\u001b[38;5;124mtmatdt\u001b[39m\u001b[38;5;124m'\u001b[39m:\u001b[38;5;124m'\u001b[39m\u001b[38;5;124mmaturity date\u001b[39m\u001b[38;5;124m'\u001b[39m,\u001b[38;5;124m'\u001b[39m\u001b[38;5;124mTTM\u001b[39m\u001b[38;5;124m'\u001b[39m:\u001b[38;5;124m'\u001b[39m\u001b[38;5;124mttm\u001b[39m\u001b[38;5;124m'\u001b[39m,\u001b[38;5;124m'\u001b[39m\u001b[38;5;124mtdbid\u001b[39m\u001b[38;5;124m'\u001b[39m:\u001b[38;5;124m'\u001b[39m\u001b[38;5;124mbid\u001b[39m\u001b[38;5;124m'\u001b[39m,\u001b[38;5;124m'\u001b[39m\u001b[38;5;124mtdask\u001b[39m\u001b[38;5;124m'\u001b[39m:\u001b[38;5;124m'\u001b[39m\u001b[38;5;124mask\u001b[39m\u001b[38;5;124m'\u001b[39m,\u001b[38;5;124m'\u001b[39m\u001b[38;5;124mtcouprt\u001b[39m\u001b[38;5;124m'\u001b[39m:\u001b[38;5;124m'\u001b[39m\u001b[38;5;124mcpn rate\u001b[39m\u001b[38;5;124m'\u001b[39m,\u001b[38;5;124m'\u001b[39m\u001b[38;5;124mitype\u001b[39m\u001b[38;5;124m'\u001b[39m:\u001b[38;5;124m'\u001b[39m\u001b[38;5;124minstrument\u001b[39m\u001b[38;5;124m'\u001b[39m,\u001b[38;5;124m'\u001b[39m\u001b[38;5;124mtdyld\u001b[39m\u001b[38;5;124m'\u001b[39m:\u001b[38;5;124m'\u001b[39m\u001b[38;5;124mytm\u001b[39m\u001b[38;5;124m'\u001b[39m,\u001b[38;5;124m'\u001b[39m\u001b[38;5;124mtdaccint\u001b[39m\u001b[38;5;124m'\u001b[39m:\u001b[38;5;124m'\u001b[39m\u001b[38;5;124maccrint\u001b[39m\u001b[38;5;124m'\u001b[39m, \u001b[38;5;124m'\u001b[39m\u001b[38;5;124mtdduratn\u001b[39m\u001b[38;5;124m'\u001b[39m:\u001b[38;5;124m'\u001b[39m\u001b[38;5;124mduration\u001b[39m\u001b[38;5;124m'\u001b[39m})\n\u001b[1;32m      3\u001b[0m \u001b[38;5;66;03m# eliminate issue 0 years away\u001b[39;00m\n\u001b[1;32m      4\u001b[0m selected \u001b[38;5;241m=\u001b[39m selected[\u001b[38;5;241m~\u001b[39m(selected[\u001b[38;5;124m'\u001b[39m\u001b[38;5;124mduration\u001b[39m\u001b[38;5;124m'\u001b[39m]\u001b[38;5;241m<\u001b[39m\u001b[38;5;241m30\u001b[39m)]\n",
      "\u001b[0;31mNameError\u001b[0m: name 'data_select' is not defined"
     ]
    }
   ],
   "source": [
    "selected = data_select.rename(columns={'caldt':'date','tdatdt':'issue date','tdtotout':'outstanding','tmatdt':'maturity date','TTM':'ttm','tdbid':'bid','tdask':'ask','tcouprt':'cpn rate','itype':'instrument','tdyld':'ytm','tdaccint':'accrint', 'tdduratn':'duration'})\n",
    "\n",
    "# eliminate issue 0 years away\n",
    "selected = selected[~(selected['duration']<30)]\n",
    "\n",
    "selected['ytm'] *= 365.25\n",
    "selected['duration'] /= 365.25\n",
    "\n",
    "selected.style.format({\n",
    "    'ttm':'{:.2f}','tdbid':'{:.2f}',\n",
    "    'ask':'{:.2f}',\n",
    "    'accrint':'{:.2f}',\n",
    "    'ytm':'{:.2f}',\n",
    "    'duration':'{:.2f}',\n",
    "    'outstanding':'{:,.0f}',\n",
    "    'cpn rate':'{:.3f}',\n",
    "    'instrument':'{:.0f}',\n",
    "    'issue date': lambda x: x.strftime('%Y-%m-%d') if not pd.isnull(x) else '',\n",
    "    'maturity date': lambda x: x.strftime('%Y-%m-%d') if not pd.isnull(x) else ''\n",
    "})"
   ]
  },
  {
   "cell_type": "code",
   "execution_count": 10,
   "metadata": {
    "scrolled": true
   },
   "outputs": [
    {
     "ename": "NameError",
     "evalue": "name 'selected' is not defined",
     "output_type": "error",
     "traceback": [
      "\u001b[0;31m---------------------------------------------------------------------------\u001b[0m",
      "\u001b[0;31mNameError\u001b[0m                                 Traceback (most recent call last)",
      "Cell \u001b[0;32mIn[10], line 1\u001b[0m\n\u001b[0;32m----> 1\u001b[0m selected[\u001b[38;5;124m'\u001b[39m\u001b[38;5;124mprice\u001b[39m\u001b[38;5;124m'\u001b[39m] \u001b[38;5;241m=\u001b[39m (\u001b[43mselected\u001b[49m[\u001b[38;5;124m'\u001b[39m\u001b[38;5;124mbid\u001b[39m\u001b[38;5;124m'\u001b[39m] \u001b[38;5;241m+\u001b[39m selected[\u001b[38;5;124m'\u001b[39m\u001b[38;5;124mask\u001b[39m\u001b[38;5;124m'\u001b[39m])\u001b[38;5;241m/\u001b[39m\u001b[38;5;241m2\u001b[39m \u001b[38;5;241m+\u001b[39m selected[\u001b[38;5;124m'\u001b[39m\u001b[38;5;124maccrint\u001b[39m\u001b[38;5;124m'\u001b[39m]\n",
      "\u001b[0;31mNameError\u001b[0m: name 'selected' is not defined"
     ]
    }
   ],
   "source": [
    "selected['price'] = (selected['bid'] + selected['ask'])/2 + selected['accrint']"
   ]
  },
  {
   "cell_type": "code",
   "execution_count": 11,
   "metadata": {},
   "outputs": [],
   "source": [
    "# with pd.option_context('display.max_rows',None):\n",
    "#     display(data_select.sort_values('tdatdt')[['kytreasno','tmatdt','tdatdt','tcouprt']])"
   ]
  },
  {
   "cell_type": "code",
   "execution_count": 12,
   "metadata": {},
   "outputs": [],
   "source": [
    "KEYNOS = (207392, 207391)\n",
    "\n",
    "SQL_QUERY = f'select * from crsp_m_treasuries.tfz_dly where kytreasno in {KEYNOS}'\n",
    "data_quotes = db.raw_sql(SQL_QUERY)\n",
    "\n",
    "SQL_QUERY = f'select * from crsp_m_treasuries.tfz_iss where kytreasno in {KEYNOS}'\n",
    "data_iss = db.raw_sql(SQL_QUERY)\n",
    "\n",
    "rawdata = data_quotes.merge(data_iss, on='kytreasno')"
   ]
  },
  {
   "cell_type": "markdown",
   "metadata": {},
   "source": [
    "***"
   ]
  },
  {
   "cell_type": "markdown",
   "metadata": {},
   "source": [
    "# Process Data"
   ]
  },
  {
   "cell_type": "code",
   "execution_count": 13,
   "metadata": {},
   "outputs": [],
   "source": [
    "import sys\n",
    "sys.path.insert(0, '../cmds')\n",
    "from treasury_cmds import process_wrds_treasury_data\n",
    "\n",
    "data = process_wrds_treasury_data(rawdata,keys_extra=['duration'])"
   ]
  },
  {
   "cell_type": "markdown",
   "metadata": {},
   "source": [
    "***"
   ]
  },
  {
   "cell_type": "markdown",
   "metadata": {},
   "source": [
    "# Get Timeseries for Duration Analysis"
   ]
  },
  {
   "cell_type": "markdown",
   "metadata": {},
   "source": [
    "Update the KEYNOs. \n",
    "* These three are issued in Aug 2019.\n",
    "* Idea is 5, 10, 30 maturities.\n",
    "* 5-year matures in Aug 2024. So will need updated.\n",
    "\n",
    "Used in HW 2, problem 3.\n",
    "* Only make use of the 30yr and 10yr there."
   ]
  },
  {
   "cell_type": "code",
   "execution_count": 14,
   "metadata": {},
   "outputs": [],
   "source": [
    "px = data.pivot_table(index='quote date',columns='KYTREASNO',values='price').dropna()\n",
    "duration = data.pivot_table(index='quote date',columns='KYTREASNO',values='duration').dropna()"
   ]
  },
  {
   "cell_type": "markdown",
   "metadata": {},
   "source": [
    "***"
   ]
  },
  {
   "cell_type": "markdown",
   "metadata": {},
   "source": [
    "# Save to Excel"
   ]
  },
  {
   "cell_type": "code",
   "execution_count": 15,
   "metadata": {},
   "outputs": [],
   "source": [
    "outfile = f'../data/treasury_ts_duration_{DATE}.xlsx'\n",
    "with pd.ExcelWriter(outfile) as writer:      \n",
    "    data.to_excel(writer, sheet_name= 'database', index=True)\n",
    "    px.to_excel(writer, sheet_name= 'price', index=True)\n",
    "    duration.to_excel(writer, sheet_name= 'duration', index=True)"
   ]
  }
 ],
 "metadata": {
  "hide_input": false,
  "kernelspec": {
   "display_name": "Python 3 (ipykernel)",
   "language": "python",
   "name": "python3"
  },
  "language_info": {
   "codemirror_mode": {
    "name": "ipython",
    "version": 3
   },
   "file_extension": ".py",
   "mimetype": "text/x-python",
   "name": "python",
   "nbconvert_exporter": "python",
   "pygments_lexer": "ipython3",
   "version": "3.9.6"
  },
  "toc": {
   "base_numbering": 1,
   "nav_menu": {},
   "number_sections": false,
   "sideBar": true,
   "skip_h1_title": false,
   "title_cell": "Table of Contents",
   "title_sidebar": "Contents",
   "toc_cell": false,
   "toc_position": {},
   "toc_section_display": true,
   "toc_window_display": false
  }
 },
 "nbformat": 4,
 "nbformat_minor": 4
}
