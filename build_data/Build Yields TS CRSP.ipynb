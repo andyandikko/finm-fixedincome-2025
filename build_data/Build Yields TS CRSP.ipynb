{
 "cells": [
  {
   "cell_type": "code",
   "execution_count": 9,
   "metadata": {},
   "outputs": [
    {
     "name": "stdout",
     "output_type": "stream",
     "text": [
      "Loading library list...\n",
      "Done\n"
     ]
    }
   ],
   "source": [
    "import wrds\n",
    "file_key = open(\"../../keys/wrds_username.txt\",\"r\")\n",
    "USERNAME = file_key.read()\n",
    "file_key.close()\n",
    "\n",
    "db = wrds.Connection(wrds_username=USERNAME)\n",
    "#db.create_pgpass_file()"
   ]
  },
  {
   "cell_type": "code",
   "execution_count": 10,
   "metadata": {},
   "outputs": [],
   "source": [
    "import pandas as pd\n",
    "import numpy as np\n",
    "from datetime import date"
   ]
  },
  {
   "cell_type": "markdown",
   "metadata": {},
   "source": [
    "# Get Yield Curve Data (CRSP)"
   ]
  },
  {
   "cell_type": "code",
   "execution_count": 11,
   "metadata": {},
   "outputs": [
    {
     "data": {
      "text/html": [
       "<div>\n",
       "<style scoped>\n",
       "    .dataframe tbody tr th:only-of-type {\n",
       "        vertical-align: middle;\n",
       "    }\n",
       "\n",
       "    .dataframe tbody tr th {\n",
       "        vertical-align: top;\n",
       "    }\n",
       "\n",
       "    .dataframe thead th {\n",
       "        text-align: right;\n",
       "    }\n",
       "</style>\n",
       "<table border=\"1\" class=\"dataframe\">\n",
       "  <thead>\n",
       "    <tr style=\"text-align: right;\">\n",
       "      <th></th>\n",
       "      <th>1</th>\n",
       "      <th>2</th>\n",
       "      <th>5</th>\n",
       "      <th>7</th>\n",
       "      <th>10</th>\n",
       "      <th>20</th>\n",
       "      <th>30</th>\n",
       "    </tr>\n",
       "    <tr>\n",
       "      <th>caldt</th>\n",
       "      <th></th>\n",
       "      <th></th>\n",
       "      <th></th>\n",
       "      <th></th>\n",
       "      <th></th>\n",
       "      <th></th>\n",
       "      <th></th>\n",
       "    </tr>\n",
       "  </thead>\n",
       "  <tbody>\n",
       "    <tr>\n",
       "      <th>1961-06-14</th>\n",
       "      <td>2.935907</td>\n",
       "      <td>3.360687</td>\n",
       "      <td>3.623677</td>\n",
       "      <td>3.768720</td>\n",
       "      <td>3.818819</td>\n",
       "      <td>3.814210</td>\n",
       "      <td>3.815172</td>\n",
       "    </tr>\n",
       "    <tr>\n",
       "      <th>1961-06-15</th>\n",
       "      <td>2.932936</td>\n",
       "      <td>3.376460</td>\n",
       "      <td>3.671691</td>\n",
       "      <td>3.804225</td>\n",
       "      <td>3.862987</td>\n",
       "      <td>3.828220</td>\n",
       "      <td>3.826316</td>\n",
       "    </tr>\n",
       "    <tr>\n",
       "      <th>1961-06-16</th>\n",
       "      <td>2.929949</td>\n",
       "      <td>3.375670</td>\n",
       "      <td>3.685431</td>\n",
       "      <td>3.804216</td>\n",
       "      <td>3.863282</td>\n",
       "      <td>3.832922</td>\n",
       "      <td>3.830049</td>\n",
       "    </tr>\n",
       "    <tr>\n",
       "      <th>1961-06-19</th>\n",
       "      <td>2.920884</td>\n",
       "      <td>3.389970</td>\n",
       "      <td>3.712984</td>\n",
       "      <td>3.824557</td>\n",
       "      <td>3.886205</td>\n",
       "      <td>3.842378</td>\n",
       "      <td>3.837543</td>\n",
       "    </tr>\n",
       "    <tr>\n",
       "      <th>1961-06-20</th>\n",
       "      <td>2.952419</td>\n",
       "      <td>3.355796</td>\n",
       "      <td>3.685391</td>\n",
       "      <td>3.809274</td>\n",
       "      <td>3.886506</td>\n",
       "      <td>3.856465</td>\n",
       "      <td>3.845018</td>\n",
       "    </tr>\n",
       "    <tr>\n",
       "      <th>...</th>\n",
       "      <td>...</td>\n",
       "      <td>...</td>\n",
       "      <td>...</td>\n",
       "      <td>...</td>\n",
       "      <td>...</td>\n",
       "      <td>...</td>\n",
       "      <td>...</td>\n",
       "    </tr>\n",
       "    <tr>\n",
       "      <th>2024-11-22</th>\n",
       "      <td>4.424634</td>\n",
       "      <td>4.296562</td>\n",
       "      <td>4.272932</td>\n",
       "      <td>4.309880</td>\n",
       "      <td>4.371744</td>\n",
       "      <td>4.694971</td>\n",
       "      <td>4.556757</td>\n",
       "    </tr>\n",
       "    <tr>\n",
       "      <th>2024-11-25</th>\n",
       "      <td>4.385785</td>\n",
       "      <td>4.192535</td>\n",
       "      <td>4.137078</td>\n",
       "      <td>4.170965</td>\n",
       "      <td>4.220091</td>\n",
       "      <td>4.549476</td>\n",
       "      <td>4.407984</td>\n",
       "    </tr>\n",
       "    <tr>\n",
       "      <th>2024-11-26</th>\n",
       "      <td>4.398351</td>\n",
       "      <td>4.200399</td>\n",
       "      <td>4.150193</td>\n",
       "      <td>4.197205</td>\n",
       "      <td>4.253809</td>\n",
       "      <td>4.574224</td>\n",
       "      <td>4.422364</td>\n",
       "    </tr>\n",
       "    <tr>\n",
       "      <th>2024-11-27</th>\n",
       "      <td>4.373721</td>\n",
       "      <td>4.175960</td>\n",
       "      <td>4.100188</td>\n",
       "      <td>4.144673</td>\n",
       "      <td>4.205491</td>\n",
       "      <td>4.530347</td>\n",
       "      <td>4.386559</td>\n",
       "    </tr>\n",
       "    <tr>\n",
       "      <th>2024-11-29</th>\n",
       "      <td>4.309264</td>\n",
       "      <td>4.105397</td>\n",
       "      <td>4.034878</td>\n",
       "      <td>4.080245</td>\n",
       "      <td>4.133901</td>\n",
       "      <td>4.472449</td>\n",
       "      <td>4.321918</td>\n",
       "    </tr>\n",
       "  </tbody>\n",
       "</table>\n",
       "<p>15847 rows × 7 columns</p>\n",
       "</div>"
      ],
      "text/plain": [
       "                  1         2         5         7         10        20  \\\n",
       "caldt                                                                    \n",
       "1961-06-14  2.935907  3.360687  3.623677  3.768720  3.818819  3.814210   \n",
       "1961-06-15  2.932936  3.376460  3.671691  3.804225  3.862987  3.828220   \n",
       "1961-06-16  2.929949  3.375670  3.685431  3.804216  3.863282  3.832922   \n",
       "1961-06-19  2.920884  3.389970  3.712984  3.824557  3.886205  3.842378   \n",
       "1961-06-20  2.952419  3.355796  3.685391  3.809274  3.886506  3.856465   \n",
       "...              ...       ...       ...       ...       ...       ...   \n",
       "2024-11-22  4.424634  4.296562  4.272932  4.309880  4.371744  4.694971   \n",
       "2024-11-25  4.385785  4.192535  4.137078  4.170965  4.220091  4.549476   \n",
       "2024-11-26  4.398351  4.200399  4.150193  4.197205  4.253809  4.574224   \n",
       "2024-11-27  4.373721  4.175960  4.100188  4.144673  4.205491  4.530347   \n",
       "2024-11-29  4.309264  4.105397  4.034878  4.080245  4.133901  4.472449   \n",
       "\n",
       "                  30  \n",
       "caldt                 \n",
       "1961-06-14  3.815172  \n",
       "1961-06-15  3.826316  \n",
       "1961-06-16  3.830049  \n",
       "1961-06-19  3.837543  \n",
       "1961-06-20  3.845018  \n",
       "...              ...  \n",
       "2024-11-22  4.556757  \n",
       "2024-11-25  4.407984  \n",
       "2024-11-26  4.422364  \n",
       "2024-11-27  4.386559  \n",
       "2024-11-29  4.321918  \n",
       "\n",
       "[15847 rows x 7 columns]"
      ]
     },
     "execution_count": 11,
     "metadata": {},
     "output_type": "execute_result"
    }
   ],
   "source": [
    "data_ft = db.get_table(library='crsp_m_treasuries', table='tfz_dly_ft').pivot_table(index='caldt',values='tdytm', columns='kytreasnox')\n",
    "data_ft.columns = [1,2,5,7,10,20,30]\n",
    "data_ft"
   ]
  },
  {
   "cell_type": "markdown",
   "metadata": {},
   "source": [
    "***"
   ]
  },
  {
   "cell_type": "markdown",
   "metadata": {},
   "source": [
    "# Save to Excel"
   ]
  },
  {
   "cell_type": "code",
   "execution_count": 12,
   "metadata": {},
   "outputs": [],
   "source": [
    "outfile = f'../data/yields.xlsx'\n",
    "with pd.ExcelWriter(outfile) as writer:\n",
    "    data_ft.to_excel(writer, sheet_name= 'yields', index=True)"
   ]
  },
  {
   "cell_type": "markdown",
   "metadata": {},
   "source": [
    "***"
   ]
  }
 ],
 "metadata": {
  "hide_input": false,
  "kernelspec": {
   "display_name": "Python 3 (ipykernel)",
   "language": "python",
   "name": "python3"
  },
  "language_info": {
   "codemirror_mode": {
    "name": "ipython",
    "version": 3
   },
   "file_extension": ".py",
   "mimetype": "text/x-python",
   "name": "python",
   "nbconvert_exporter": "python",
   "pygments_lexer": "ipython3",
   "version": "3.9.6"
  },
  "toc": {
   "base_numbering": 1,
   "nav_menu": {},
   "number_sections": false,
   "sideBar": true,
   "skip_h1_title": false,
   "title_cell": "Table of Contents",
   "title_sidebar": "Contents",
   "toc_cell": false,
   "toc_position": {},
   "toc_section_display": true,
   "toc_window_display": false
  }
 },
 "nbformat": 4,
 "nbformat_minor": 4
}
